{
 "cells": [
  {
   "cell_type": "markdown",
   "id": "british-lucas",
   "metadata": {},
   "source": [
    "https://www.jianshu.com/p/5c7b52df5e34?fbclid=IwAR1SjwZwV0vWaug7QanzVYf0gfrMWt0_cUW50vMpWBsT-KYfHAGre18Y9oc"
   ]
  },
  {
   "cell_type": "code",
   "execution_count": 128,
   "id": "polyphonic-foundation",
   "metadata": {},
   "outputs": [],
   "source": [
    "import os\n",
    "import numpy as np\n",
    "import pandas as pd\n",
    "import matplotlib.pyplot as plt\n",
    "train_data=pd.read_csv(r'D:\\課程\\大四下\\資料科學應用\\project2\\train.csv')\n",
    "test_data=pd.read_csv(r'D:\\課程\\大四下\\資料科學應用\\project2\\test.csv')"
   ]
  },
  {
   "cell_type": "code",
   "execution_count": 129,
   "id": "thorough-approval",
   "metadata": {},
   "outputs": [
    {
     "name": "stdout",
     "output_type": "stream",
     "text": [
      "year         0\n",
      "month        0\n",
      "day          0\n",
      "hour         0\n",
      "pm2.5     1968\n",
      "DEWP      5259\n",
      "TEMP     10519\n",
      "PRES     14025\n",
      "cbwd         0\n",
      "Iws          0\n",
      "Is           0\n",
      "Ir           0\n",
      "dtype: int64\n"
     ]
    }
   ],
   "source": [
    "print(train_data.isnull().sum())  "
   ]
  },
  {
   "cell_type": "code",
   "execution_count": 130,
   "id": "abstract-fault",
   "metadata": {},
   "outputs": [
    {
     "name": "stdout",
     "output_type": "stream",
     "text": [
      "year        0\n",
      "month       0\n",
      "day         0\n",
      "hour        0\n",
      "DEWP      876\n",
      "TEMP     1752\n",
      "PRES      876\n",
      "cbwd        0\n",
      "Iws         0\n",
      "Is          0\n",
      "Ir          0\n",
      "dtype: int64\n"
     ]
    }
   ],
   "source": [
    "print(test_data.isnull().sum())  "
   ]
  },
  {
   "cell_type": "code",
   "execution_count": 131,
   "id": "international-interval",
   "metadata": {},
   "outputs": [
    {
     "name": "stdout",
     "output_type": "stream",
     "text": [
      "<class 'pandas.core.frame.DataFrame'>\n",
      "RangeIndex: 35064 entries, 0 to 35063\n",
      "Data columns (total 12 columns):\n",
      " #   Column  Non-Null Count  Dtype  \n",
      "---  ------  --------------  -----  \n",
      " 0   year    35064 non-null  int64  \n",
      " 1   month   35064 non-null  int64  \n",
      " 2   day     35064 non-null  int64  \n",
      " 3   hour    35064 non-null  int64  \n",
      " 4   pm2.5   33096 non-null  float64\n",
      " 5   DEWP    29805 non-null  float64\n",
      " 6   TEMP    24545 non-null  float64\n",
      " 7   PRES    21039 non-null  float64\n",
      " 8   cbwd    35064 non-null  object \n",
      " 9   Iws     35064 non-null  float64\n",
      " 10  Is      35064 non-null  int64  \n",
      " 11  Ir      35064 non-null  int64  \n",
      "dtypes: float64(5), int64(6), object(1)\n",
      "memory usage: 3.2+ MB\n"
     ]
    }
   ],
   "source": [
    "train_data.info()"
   ]
  },
  {
   "cell_type": "code",
   "execution_count": 132,
   "id": "modified-magic",
   "metadata": {},
   "outputs": [
    {
     "data": {
      "text/plain": [
       "year    -0.017933\n",
       "month    0.001527\n",
       "day      0.068141\n",
       "hour    -0.019552\n",
       "pm2.5    1.000000\n",
       "DEWP     0.199617\n",
       "TEMP    -0.058037\n",
       "PRES    -0.076463\n",
       "Iws     -0.256205\n",
       "Is       0.022720\n",
       "Ir      -0.051630\n",
       "Name: pm2.5, dtype: float64"
      ]
     },
     "execution_count": 132,
     "metadata": {},
     "output_type": "execute_result"
    }
   ],
   "source": [
    "train_data.corr()['pm2.5']"
   ]
  },
  {
   "cell_type": "code",
   "execution_count": 133,
   "id": "cultural-export",
   "metadata": {},
   "outputs": [],
   "source": [
    "features=['DEWP','TEMP','PRES','Iws','Is','Ir']\n",
    "train_data=train_data[['pm2.5','DEWP','TEMP','PRES','Iws','Ir']]\n",
    "train_y=train_data['pm2.5']\n",
    "train_x=train_data.drop('pm2.5',1)\n",
    "test_data=test_data[['DEWP','TEMP','PRES','Iws','Ir']]"
   ]
  },
  {
   "cell_type": "code",
   "execution_count": 134,
   "id": "saved-pakistan",
   "metadata": {},
   "outputs": [],
   "source": [
    "'''\n",
    "from sklearn.impute import SimpleImputer\n",
    "imp = SimpleImputer(missing_values=np.nan, strategy='mean')\n",
    "imp.fit(train_x)\n",
    "train_x = imp.transform(train_x)\n",
    "train_x=pd.DataFrame(train_x,columns=features)\n",
    "train_x\n",
    "test_x = imp.transform(test_data)\n",
    "test_x=pd.DataFrame(test_x,columns=features)\n",
    "test_x'''\n",
    "train_x = train_x.fillna(method = 'ffill')\n",
    "test_x = test_data.fillna(method = 'ffill')"
   ]
  },
  {
   "cell_type": "code",
   "execution_count": 136,
   "id": "acceptable-loading",
   "metadata": {},
   "outputs": [
    {
     "name": "stdout",
     "output_type": "stream",
     "text": [
      "DEWP    0\n",
      "TEMP    0\n",
      "PRES    0\n",
      "Iws     0\n",
      "Is      0\n",
      "Ir      0\n",
      "dtype: int64\n"
     ]
    }
   ],
   "source": [
    "print(train_x.isnull().sum()) "
   ]
  },
  {
   "cell_type": "code",
   "execution_count": 137,
   "id": "dominican-sharp",
   "metadata": {
    "scrolled": true
   },
   "outputs": [
    {
     "name": "stdout",
     "output_type": "stream",
     "text": [
      "DEWP    0\n",
      "TEMP    0\n",
      "PRES    0\n",
      "Iws     0\n",
      "Is      0\n",
      "Ir      0\n",
      "dtype: int64\n"
     ]
    }
   ],
   "source": [
    "print(test_x.isnull().sum()) "
   ]
  },
  {
   "cell_type": "code",
   "execution_count": 149,
   "id": "overall-sheffield",
   "metadata": {},
   "outputs": [
    {
     "name": "stdout",
     "output_type": "stream",
     "text": [
      "24\n"
     ]
    }
   ],
   "source": [
    "train_y = train_y.fillna(method = 'ffill')\n",
    "#train__y=pd.DataFrame(train_y)\n",
    "print(train_y.isnull().sum()) "
   ]
  },
  {
   "cell_type": "code",
   "execution_count": 151,
   "id": "fifth-citation",
   "metadata": {},
   "outputs": [
    {
     "name": "stdout",
     "output_type": "stream",
     "text": [
      "0\n"
     ]
    }
   ],
   "source": [
    "train_y = train_y.fillna(method = 'bfill')\n",
    "print(train_y.isnull().sum()) "
   ]
  },
  {
   "cell_type": "markdown",
   "id": "solar-funds",
   "metadata": {},
   "source": [
    "也要有pm2.5之變數"
   ]
  },
  {
   "cell_type": "code",
   "execution_count": 152,
   "id": "executive-mustang",
   "metadata": {},
   "outputs": [],
   "source": [
    "train_x['pm2.5']=train_y"
   ]
  },
  {
   "cell_type": "code",
   "execution_count": 153,
   "id": "nasty-plane",
   "metadata": {},
   "outputs": [
    {
     "name": "stdout",
     "output_type": "stream",
     "text": [
      "       DEWP  TEMP    PRES     Iws  Is  Ir  pm2.5\n",
      "0     -21.0 -11.0  1021.0    1.79   0   0  129.0\n",
      "1     -21.0 -12.0  1020.0    4.92   0   0  129.0\n",
      "2     -21.0 -11.0  1020.0    6.71   0   0  129.0\n",
      "3     -21.0 -11.0  1019.0    9.84   0   0  129.0\n",
      "4     -20.0 -11.0  1018.0   12.97   0   0  129.0\n",
      "...     ...   ...     ...     ...  ..  ..    ...\n",
      "35059 -19.0   7.0  1013.0  114.87   0   0   22.0\n",
      "35060 -21.0   7.0  1014.0  119.79   0   0   18.0\n",
      "35061 -21.0   7.0  1014.0  125.60   0   0   23.0\n",
      "35062 -21.0   7.0  1014.0  130.52   0   0   20.0\n",
      "35063 -20.0   7.0  1014.0  137.67   0   0   23.0\n",
      "\n",
      "[35064 rows x 7 columns]\n"
     ]
    }
   ],
   "source": [
    "print(train_x)"
   ]
  },
  {
   "cell_type": "markdown",
   "id": "fuzzy-catalyst",
   "metadata": {},
   "source": [
    "min max normalize features"
   ]
  },
  {
   "cell_type": "code",
   "execution_count": 24,
   "id": "chicken-monthly",
   "metadata": {},
   "outputs": [],
   "source": [
    "from sklearn.preprocessing import MinMaxScaler\n",
    "\n",
    "scaler = MinMaxScaler().fit(train_x)\n",
    "train_x=scaler.transform(train_x)"
   ]
  },
  {
   "cell_type": "code",
   "execution_count": 60,
   "id": "relative-tenant",
   "metadata": {},
   "outputs": [],
   "source": [
    "time=6 #n個為一單位-->以n-1個資料預測下一個資料\n",
    "x_train = [] \n",
    "y_train = []\n",
    "for i in range(time,len(train_x)):\n",
    "    x_train.append(train_x[i-time:i-1]) \n",
    "    y_train.append(train_y[i]) \n",
    "x_train, y_train = np.array(x_train), np.array(y_train) \n"
   ]
  },
  {
   "cell_type": "code",
   "execution_count": 61,
   "id": "friendly-segment",
   "metadata": {},
   "outputs": [
    {
     "data": {
      "text/plain": [
       "(35053, 10, 7)"
      ]
     },
     "execution_count": 61,
     "metadata": {},
     "output_type": "execute_result"
    }
   ],
   "source": [
    "x_train.shape"
   ]
  },
  {
   "cell_type": "code",
   "execution_count": 62,
   "id": "fabulous-aquarium",
   "metadata": {},
   "outputs": [
    {
     "data": {
      "text/plain": [
       "(35053,)"
      ]
     },
     "execution_count": 62,
     "metadata": {},
     "output_type": "execute_result"
    }
   ],
   "source": [
    "y_train.shape"
   ]
  },
  {
   "cell_type": "code",
   "execution_count": 63,
   "id": "radio-freeze",
   "metadata": {},
   "outputs": [],
   "source": [
    "val_num=int(len(y_train)*0.2)\n",
    "x_val_new=x_train[-val_num:]\n",
    "x_train_new=x_train[:-val_num]\n",
    "y_val_new=y_train[-val_num:]\n",
    "y_train_new=y_train[:-val_num]"
   ]
  },
  {
   "cell_type": "code",
   "execution_count": 64,
   "id": "constitutional-impact",
   "metadata": {},
   "outputs": [],
   "source": [
    "from tensorflow.keras import callbacks\n",
    "\n",
    "model_mckp = callbacks.ModelCheckpoint(r'D:\\課程\\大四下\\資料科學應用\\project2\\project2_lstm_v5.h5',\n",
    "                      monitor='val_loss',\n",
    "                      save_best_only=True)\n",
    "\n",
    "earlystop = callbacks.EarlyStopping(monitor='val_loss',\n",
    "                    patience=5,\n",
    "                    verbose=1)\n",
    "\n",
    "\n",
    "callbacks_list = [model_mckp, earlystop]\n"
   ]
  },
  {
   "cell_type": "code",
   "execution_count": 65,
   "id": "declared-riding",
   "metadata": {},
   "outputs": [
    {
     "name": "stdout",
     "output_type": "stream",
     "text": [
      "Epoch 1/20\n",
      "281/281 [==============================] - 8s 27ms/step - loss: 63.5888 - mean_absolute_error: 63.5888 - val_loss: 57.8541 - val_mean_absolute_error: 57.8541\n",
      "Epoch 2/20\n",
      "281/281 [==============================] - 7s 24ms/step - loss: 49.7981 - mean_absolute_error: 49.7981 - val_loss: 34.8420 - val_mean_absolute_error: 34.8420\n",
      "Epoch 3/20\n",
      "281/281 [==============================] - 6s 22ms/step - loss: 38.7294 - mean_absolute_error: 38.7294 - val_loss: 28.2813 - val_mean_absolute_error: 28.2813\n",
      "Epoch 4/20\n",
      "281/281 [==============================] - 6s 22ms/step - loss: 33.5481 - mean_absolute_error: 33.5481 - val_loss: 39.0474 - val_mean_absolute_error: 39.0474\n",
      "Epoch 5/20\n",
      "281/281 [==============================] - 6s 22ms/step - loss: 31.2452 - mean_absolute_error: 31.2452 - val_loss: 29.6437 - val_mean_absolute_error: 29.6437\n",
      "Epoch 6/20\n",
      "281/281 [==============================] - 6s 22ms/step - loss: 29.3822 - mean_absolute_error: 29.3822 - val_loss: 24.6303 - val_mean_absolute_error: 24.6303\n",
      "Epoch 7/20\n",
      "281/281 [==============================] - 6s 21ms/step - loss: 28.5728 - mean_absolute_error: 28.5728 - val_loss: 29.3211 - val_mean_absolute_error: 29.3211\n",
      "Epoch 8/20\n",
      "281/281 [==============================] - 6s 21ms/step - loss: 27.5930 - mean_absolute_error: 27.5930 - val_loss: 24.8105 - val_mean_absolute_error: 24.8105\n",
      "Epoch 9/20\n",
      "281/281 [==============================] - 6s 21ms/step - loss: 27.3148 - mean_absolute_error: 27.3148 - val_loss: 25.6038 - val_mean_absolute_error: 25.6038\n",
      "Epoch 10/20\n",
      "281/281 [==============================] - 6s 21ms/step - loss: 26.1009 - mean_absolute_error: 26.1009 - val_loss: 20.3210 - val_mean_absolute_error: 20.3210\n",
      "Epoch 11/20\n",
      "281/281 [==============================] - 6s 21ms/step - loss: 26.0346 - mean_absolute_error: 26.0346 - val_loss: 30.8499 - val_mean_absolute_error: 30.8499\n",
      "Epoch 12/20\n",
      "281/281 [==============================] - 6s 21ms/step - loss: 25.5115 - mean_absolute_error: 25.5115 - val_loss: 27.9039 - val_mean_absolute_error: 27.9039\n",
      "Epoch 13/20\n",
      "281/281 [==============================] - 6s 21ms/step - loss: 25.1260 - mean_absolute_error: 25.1260 - val_loss: 21.7241 - val_mean_absolute_error: 21.7241\n",
      "Epoch 14/20\n",
      "281/281 [==============================] - 6s 21ms/step - loss: 24.6365 - mean_absolute_error: 24.6365 - val_loss: 21.1379 - val_mean_absolute_error: 21.1379\n",
      "Epoch 15/20\n",
      "281/281 [==============================] - 6s 21ms/step - loss: 24.2281 - mean_absolute_error: 24.2281 - val_loss: 22.7443 - val_mean_absolute_error: 22.7443\n",
      "Epoch 00015: early stopping\n"
     ]
    },
    {
     "data": {
      "text/plain": [
       "<tensorflow.python.keras.callbacks.History at 0x1afd048e780>"
      ]
     },
     "execution_count": 65,
     "metadata": {},
     "output_type": "execute_result"
    }
   ],
   "source": [
    "from keras.models import Sequential\n",
    "from keras.layers import Dense\n",
    "from keras.layers import LSTM\n",
    "from keras.layers import Dropout\n",
    "from keras.layers import TimeDistributed\n",
    "from keras.layers.core import Flatten\n",
    "from keras.optimizers import SGD\n",
    "\n",
    "#LSTM\n",
    "model = Sequential()\n",
    "\n",
    "model.add(LSTM(100, input_shape = (x_train_new.shape[1],x_train_new.shape[2]), return_sequences=True))\n",
    "model.add(LSTM(50, return_sequences=True))\n",
    "model.add(TimeDistributed(Dense(1)))\n",
    "model.add(Flatten())\n",
    "model.add(Dense(5,activation='linear'))\n",
    "model.add(Dense(1))\n",
    "\n",
    "opt = SGD(lr=0.01, momentum=0.0, decay=0.0, nesterov=False)\n",
    "model.compile(loss=\"mean_absolute_error\",metrics=['mean_absolute_error'], optimizer=opt)\n",
    "model.fit(x_train_new, y_train_new, epochs = 20, batch_size = 100,validation_data=(x_val_new,y_val_new),callbacks=callbacks_list)"
   ]
  },
  {
   "cell_type": "markdown",
   "id": "manufactured-raising",
   "metadata": {},
   "source": [
    "用前兩筆預測下一筆"
   ]
  },
  {
   "cell_type": "code",
   "execution_count": 67,
   "id": "seventh-blair",
   "metadata": {},
   "outputs": [
    {
     "data": {
      "text/plain": [
       "35064"
      ]
     },
     "execution_count": 67,
     "metadata": {},
     "output_type": "execute_result"
    }
   ],
   "source": [
    "len(train_x)"
   ]
  },
  {
   "cell_type": "code",
   "execution_count": 68,
   "id": "sought-toyota",
   "metadata": {},
   "outputs": [
    {
     "data": {
      "text/plain": [
       "(10, 7)"
      ]
     },
     "execution_count": 68,
     "metadata": {},
     "output_type": "execute_result"
    }
   ],
   "source": [
    "train_x[35054:35064,:].shape"
   ]
  },
  {
   "cell_type": "code",
   "execution_count": 69,
   "id": "excellent-storage",
   "metadata": {},
   "outputs": [
    {
     "data": {
      "text/html": [
       "<div>\n",
       "<style scoped>\n",
       "    .dataframe tbody tr th:only-of-type {\n",
       "        vertical-align: middle;\n",
       "    }\n",
       "\n",
       "    .dataframe tbody tr th {\n",
       "        vertical-align: top;\n",
       "    }\n",
       "\n",
       "    .dataframe thead th {\n",
       "        text-align: right;\n",
       "    }\n",
       "</style>\n",
       "<table border=\"1\" class=\"dataframe\">\n",
       "  <thead>\n",
       "    <tr style=\"text-align: right;\">\n",
       "      <th></th>\n",
       "      <th>DEWP</th>\n",
       "      <th>TEMP</th>\n",
       "      <th>PRES</th>\n",
       "      <th>Iws</th>\n",
       "      <th>Is</th>\n",
       "      <th>Ir</th>\n",
       "      <th>pm2.5</th>\n",
       "    </tr>\n",
       "  </thead>\n",
       "  <tbody>\n",
       "    <tr>\n",
       "      <th>0</th>\n",
       "      <td>0.229508</td>\n",
       "      <td>0.466667</td>\n",
       "      <td>0.459303</td>\n",
       "      <td>0.124515</td>\n",
       "      <td>0.0</td>\n",
       "      <td>0.0</td>\n",
       "      <td>0.022133</td>\n",
       "    </tr>\n",
       "    <tr>\n",
       "      <th>1</th>\n",
       "      <td>0.570285</td>\n",
       "      <td>0.466667</td>\n",
       "      <td>0.459303</td>\n",
       "      <td>0.141314</td>\n",
       "      <td>0.0</td>\n",
       "      <td>0.0</td>\n",
       "      <td>0.019115</td>\n",
       "    </tr>\n",
       "    <tr>\n",
       "      <th>2</th>\n",
       "      <td>0.245902</td>\n",
       "      <td>0.466667</td>\n",
       "      <td>0.381818</td>\n",
       "      <td>0.158113</td>\n",
       "      <td>0.0</td>\n",
       "      <td>0.0</td>\n",
       "      <td>0.016097</td>\n",
       "    </tr>\n",
       "    <tr>\n",
       "      <th>3</th>\n",
       "      <td>0.229508</td>\n",
       "      <td>0.450000</td>\n",
       "      <td>0.381818</td>\n",
       "      <td>0.174912</td>\n",
       "      <td>0.0</td>\n",
       "      <td>0.0</td>\n",
       "      <td>0.021127</td>\n",
       "    </tr>\n",
       "    <tr>\n",
       "      <th>4</th>\n",
       "      <td>0.229508</td>\n",
       "      <td>0.519980</td>\n",
       "      <td>0.400000</td>\n",
       "      <td>0.187132</td>\n",
       "      <td>0.0</td>\n",
       "      <td>0.0</td>\n",
       "      <td>0.015091</td>\n",
       "    </tr>\n",
       "    <tr>\n",
       "      <th>5</th>\n",
       "      <td>0.570285</td>\n",
       "      <td>0.433333</td>\n",
       "      <td>0.400000</td>\n",
       "      <td>0.195540</td>\n",
       "      <td>0.0</td>\n",
       "      <td>0.0</td>\n",
       "      <td>0.022133</td>\n",
       "    </tr>\n",
       "    <tr>\n",
       "      <th>6</th>\n",
       "      <td>0.196721</td>\n",
       "      <td>0.433333</td>\n",
       "      <td>0.418182</td>\n",
       "      <td>0.203948</td>\n",
       "      <td>0.0</td>\n",
       "      <td>0.0</td>\n",
       "      <td>0.018109</td>\n",
       "    </tr>\n",
       "    <tr>\n",
       "      <th>7</th>\n",
       "      <td>0.196721</td>\n",
       "      <td>0.433333</td>\n",
       "      <td>0.418182</td>\n",
       "      <td>0.213877</td>\n",
       "      <td>0.0</td>\n",
       "      <td>0.0</td>\n",
       "      <td>0.023139</td>\n",
       "    </tr>\n",
       "    <tr>\n",
       "      <th>8</th>\n",
       "      <td>0.196721</td>\n",
       "      <td>0.519980</td>\n",
       "      <td>0.418182</td>\n",
       "      <td>0.222285</td>\n",
       "      <td>0.0</td>\n",
       "      <td>0.0</td>\n",
       "      <td>0.020121</td>\n",
       "    </tr>\n",
       "    <tr>\n",
       "      <th>9</th>\n",
       "      <td>0.213115</td>\n",
       "      <td>0.433333</td>\n",
       "      <td>0.459303</td>\n",
       "      <td>0.234504</td>\n",
       "      <td>0.0</td>\n",
       "      <td>0.0</td>\n",
       "      <td>0.023139</td>\n",
       "    </tr>\n",
       "  </tbody>\n",
       "</table>\n",
       "</div>"
      ],
      "text/plain": [
       "       DEWP      TEMP      PRES       Iws   Is   Ir     pm2.5\n",
       "0  0.229508  0.466667  0.459303  0.124515  0.0  0.0  0.022133\n",
       "1  0.570285  0.466667  0.459303  0.141314  0.0  0.0  0.019115\n",
       "2  0.245902  0.466667  0.381818  0.158113  0.0  0.0  0.016097\n",
       "3  0.229508  0.450000  0.381818  0.174912  0.0  0.0  0.021127\n",
       "4  0.229508  0.519980  0.400000  0.187132  0.0  0.0  0.015091\n",
       "5  0.570285  0.433333  0.400000  0.195540  0.0  0.0  0.022133\n",
       "6  0.196721  0.433333  0.418182  0.203948  0.0  0.0  0.018109\n",
       "7  0.196721  0.433333  0.418182  0.213877  0.0  0.0  0.023139\n",
       "8  0.196721  0.519980  0.418182  0.222285  0.0  0.0  0.020121\n",
       "9  0.213115  0.433333  0.459303  0.234504  0.0  0.0  0.023139"
      ]
     },
     "execution_count": 69,
     "metadata": {},
     "output_type": "execute_result"
    }
   ],
   "source": [
    "x_data=pd.DataFrame(train_x[35054:35064],columns=['DEWP','TEMP','PRES','Iws','Is','Ir','pm2.5'])\n",
    "x_data"
   ]
  },
  {
   "cell_type": "code",
   "execution_count": 71,
   "id": "superior-fight",
   "metadata": {},
   "outputs": [],
   "source": [
    "x_data_arr=np.array(x_data)\n",
    "prediction=model.predict(x_data_arr.reshape(1,10,7))"
   ]
  },
  {
   "cell_type": "code",
   "execution_count": 72,
   "id": "square-danger",
   "metadata": {},
   "outputs": [
    {
     "data": {
      "text/plain": [
       "array([[20.893337]], dtype=float32)"
      ]
     },
     "execution_count": 72,
     "metadata": {},
     "output_type": "execute_result"
    }
   ],
   "source": [
    "prediction"
   ]
  },
  {
   "cell_type": "code",
   "execution_count": 73,
   "id": "advised-mobile",
   "metadata": {},
   "outputs": [
    {
     "data": {
      "text/plain": [
       "DEWP      -20.000000\n",
       "TEMP        7.000000\n",
       "PRES     1014.000000\n",
       "Iws       143.480000\n",
       "Is          0.000000\n",
       "Ir          0.000000\n",
       "pm2.5      20.893337\n",
       "Name: 0, dtype: float64"
      ]
     },
     "execution_count": 73,
     "metadata": {},
     "output_type": "execute_result"
    }
   ],
   "source": [
    "next_data=test_x.iloc[0,:]\n",
    "next_data['pm2.5']=prediction[0][0]\n",
    "next_data"
   ]
  },
  {
   "cell_type": "code",
   "execution_count": 74,
   "id": "brief-relation",
   "metadata": {},
   "outputs": [
    {
     "data": {
      "text/plain": [
       "array([[0.21311475, 0.43333333, 0.41818182, 0.24443305, 0.        ,\n",
       "        0.        , 0.02101945]])"
      ]
     },
     "execution_count": 74,
     "metadata": {},
     "output_type": "execute_result"
    }
   ],
   "source": [
    "next_data=scaler.transform(np.array(next_data).reshape(1, -1) )\n",
    "next_data\n",
    "#x_data.append(np.array(next_data).reshape(1,-1))"
   ]
  },
  {
   "cell_type": "code",
   "execution_count": 75,
   "id": "generic-swiss",
   "metadata": {},
   "outputs": [
    {
     "data": {
      "text/html": [
       "<div>\n",
       "<style scoped>\n",
       "    .dataframe tbody tr th:only-of-type {\n",
       "        vertical-align: middle;\n",
       "    }\n",
       "\n",
       "    .dataframe tbody tr th {\n",
       "        vertical-align: top;\n",
       "    }\n",
       "\n",
       "    .dataframe thead th {\n",
       "        text-align: right;\n",
       "    }\n",
       "</style>\n",
       "<table border=\"1\" class=\"dataframe\">\n",
       "  <thead>\n",
       "    <tr style=\"text-align: right;\">\n",
       "      <th></th>\n",
       "      <th>DEWP</th>\n",
       "      <th>TEMP</th>\n",
       "      <th>PRES</th>\n",
       "      <th>Iws</th>\n",
       "      <th>Is</th>\n",
       "      <th>Ir</th>\n",
       "      <th>pm2.5</th>\n",
       "    </tr>\n",
       "  </thead>\n",
       "  <tbody>\n",
       "    <tr>\n",
       "      <th>1</th>\n",
       "      <td>0.570285</td>\n",
       "      <td>0.466667</td>\n",
       "      <td>0.459303</td>\n",
       "      <td>0.141314</td>\n",
       "      <td>0.0</td>\n",
       "      <td>0.0</td>\n",
       "      <td>0.019115</td>\n",
       "    </tr>\n",
       "    <tr>\n",
       "      <th>2</th>\n",
       "      <td>0.245902</td>\n",
       "      <td>0.466667</td>\n",
       "      <td>0.381818</td>\n",
       "      <td>0.158113</td>\n",
       "      <td>0.0</td>\n",
       "      <td>0.0</td>\n",
       "      <td>0.016097</td>\n",
       "    </tr>\n",
       "    <tr>\n",
       "      <th>3</th>\n",
       "      <td>0.229508</td>\n",
       "      <td>0.450000</td>\n",
       "      <td>0.381818</td>\n",
       "      <td>0.174912</td>\n",
       "      <td>0.0</td>\n",
       "      <td>0.0</td>\n",
       "      <td>0.021127</td>\n",
       "    </tr>\n",
       "    <tr>\n",
       "      <th>4</th>\n",
       "      <td>0.229508</td>\n",
       "      <td>0.519980</td>\n",
       "      <td>0.400000</td>\n",
       "      <td>0.187132</td>\n",
       "      <td>0.0</td>\n",
       "      <td>0.0</td>\n",
       "      <td>0.015091</td>\n",
       "    </tr>\n",
       "    <tr>\n",
       "      <th>5</th>\n",
       "      <td>0.570285</td>\n",
       "      <td>0.433333</td>\n",
       "      <td>0.400000</td>\n",
       "      <td>0.195540</td>\n",
       "      <td>0.0</td>\n",
       "      <td>0.0</td>\n",
       "      <td>0.022133</td>\n",
       "    </tr>\n",
       "    <tr>\n",
       "      <th>6</th>\n",
       "      <td>0.196721</td>\n",
       "      <td>0.433333</td>\n",
       "      <td>0.418182</td>\n",
       "      <td>0.203948</td>\n",
       "      <td>0.0</td>\n",
       "      <td>0.0</td>\n",
       "      <td>0.018109</td>\n",
       "    </tr>\n",
       "    <tr>\n",
       "      <th>7</th>\n",
       "      <td>0.196721</td>\n",
       "      <td>0.433333</td>\n",
       "      <td>0.418182</td>\n",
       "      <td>0.213877</td>\n",
       "      <td>0.0</td>\n",
       "      <td>0.0</td>\n",
       "      <td>0.023139</td>\n",
       "    </tr>\n",
       "    <tr>\n",
       "      <th>8</th>\n",
       "      <td>0.196721</td>\n",
       "      <td>0.519980</td>\n",
       "      <td>0.418182</td>\n",
       "      <td>0.222285</td>\n",
       "      <td>0.0</td>\n",
       "      <td>0.0</td>\n",
       "      <td>0.020121</td>\n",
       "    </tr>\n",
       "    <tr>\n",
       "      <th>9</th>\n",
       "      <td>0.213115</td>\n",
       "      <td>0.433333</td>\n",
       "      <td>0.459303</td>\n",
       "      <td>0.234504</td>\n",
       "      <td>0.0</td>\n",
       "      <td>0.0</td>\n",
       "      <td>0.023139</td>\n",
       "    </tr>\n",
       "    <tr>\n",
       "      <th>10</th>\n",
       "      <td>0.213115</td>\n",
       "      <td>0.433333</td>\n",
       "      <td>0.418182</td>\n",
       "      <td>0.244433</td>\n",
       "      <td>0.0</td>\n",
       "      <td>0.0</td>\n",
       "      <td>0.021019</td>\n",
       "    </tr>\n",
       "  </tbody>\n",
       "</table>\n",
       "</div>"
      ],
      "text/plain": [
       "        DEWP      TEMP      PRES       Iws   Is   Ir     pm2.5\n",
       "1   0.570285  0.466667  0.459303  0.141314  0.0  0.0  0.019115\n",
       "2   0.245902  0.466667  0.381818  0.158113  0.0  0.0  0.016097\n",
       "3   0.229508  0.450000  0.381818  0.174912  0.0  0.0  0.021127\n",
       "4   0.229508  0.519980  0.400000  0.187132  0.0  0.0  0.015091\n",
       "5   0.570285  0.433333  0.400000  0.195540  0.0  0.0  0.022133\n",
       "6   0.196721  0.433333  0.418182  0.203948  0.0  0.0  0.018109\n",
       "7   0.196721  0.433333  0.418182  0.213877  0.0  0.0  0.023139\n",
       "8   0.196721  0.519980  0.418182  0.222285  0.0  0.0  0.020121\n",
       "9   0.213115  0.433333  0.459303  0.234504  0.0  0.0  0.023139\n",
       "10  0.213115  0.433333  0.418182  0.244433  0.0  0.0  0.021019"
      ]
     },
     "execution_count": 75,
     "metadata": {},
     "output_type": "execute_result"
    }
   ],
   "source": [
    "x_data=x_data.append(pd.DataFrame(next_data,columns=['DEWP','TEMP','PRES','Iws','Is','Ir','pm2.5'])).reset_index(drop=True)\n",
    "x_data=x_data.drop(0,0)\n",
    "x_data"
   ]
  },
  {
   "cell_type": "code",
   "execution_count": 77,
   "id": "advanced-briefs",
   "metadata": {},
   "outputs": [
    {
     "data": {
      "text/plain": [
       "array([[19.732046]], dtype=float32)"
      ]
     },
     "execution_count": 77,
     "metadata": {},
     "output_type": "execute_result"
    }
   ],
   "source": [
    "x_data_arr=np.array(x_data)\n",
    "prediction=model.predict(x_data_arr.reshape(1,10,7))\n",
    "prediction"
   ]
  },
  {
   "cell_type": "code",
   "execution_count": 78,
   "id": "personalized-century",
   "metadata": {},
   "outputs": [],
   "source": [
    "next_data=test_x.iloc[1,:]\n",
    "next_data['pm2.5']=prediction[0][0]\n",
    "next_data=scaler.transform(np.array(next_data).reshape(1, -1) )\n",
    "x_data=x_data.append(pd.DataFrame(next_data,columns=['DEWP','TEMP','PRES','Iws','Is','Ir','pm2.5'])).reset_index(drop=True)\n",
    "x_data=x_data.drop(0,0)"
   ]
  },
  {
   "cell_type": "code",
   "execution_count": 79,
   "id": "editorial-ceiling",
   "metadata": {},
   "outputs": [
    {
     "data": {
      "text/html": [
       "<div>\n",
       "<style scoped>\n",
       "    .dataframe tbody tr th:only-of-type {\n",
       "        vertical-align: middle;\n",
       "    }\n",
       "\n",
       "    .dataframe tbody tr th {\n",
       "        vertical-align: top;\n",
       "    }\n",
       "\n",
       "    .dataframe thead th {\n",
       "        text-align: right;\n",
       "    }\n",
       "</style>\n",
       "<table border=\"1\" class=\"dataframe\">\n",
       "  <thead>\n",
       "    <tr style=\"text-align: right;\">\n",
       "      <th></th>\n",
       "      <th>DEWP</th>\n",
       "      <th>TEMP</th>\n",
       "      <th>PRES</th>\n",
       "      <th>Iws</th>\n",
       "      <th>Is</th>\n",
       "      <th>Ir</th>\n",
       "      <th>pm2.5</th>\n",
       "    </tr>\n",
       "  </thead>\n",
       "  <tbody>\n",
       "    <tr>\n",
       "      <th>1</th>\n",
       "      <td>0.245902</td>\n",
       "      <td>0.466667</td>\n",
       "      <td>0.381818</td>\n",
       "      <td>0.158113</td>\n",
       "      <td>0.0</td>\n",
       "      <td>0.0</td>\n",
       "      <td>0.016097</td>\n",
       "    </tr>\n",
       "    <tr>\n",
       "      <th>2</th>\n",
       "      <td>0.229508</td>\n",
       "      <td>0.450000</td>\n",
       "      <td>0.381818</td>\n",
       "      <td>0.174912</td>\n",
       "      <td>0.0</td>\n",
       "      <td>0.0</td>\n",
       "      <td>0.021127</td>\n",
       "    </tr>\n",
       "    <tr>\n",
       "      <th>3</th>\n",
       "      <td>0.229508</td>\n",
       "      <td>0.519980</td>\n",
       "      <td>0.400000</td>\n",
       "      <td>0.187132</td>\n",
       "      <td>0.0</td>\n",
       "      <td>0.0</td>\n",
       "      <td>0.015091</td>\n",
       "    </tr>\n",
       "    <tr>\n",
       "      <th>4</th>\n",
       "      <td>0.570285</td>\n",
       "      <td>0.433333</td>\n",
       "      <td>0.400000</td>\n",
       "      <td>0.195540</td>\n",
       "      <td>0.0</td>\n",
       "      <td>0.0</td>\n",
       "      <td>0.022133</td>\n",
       "    </tr>\n",
       "    <tr>\n",
       "      <th>5</th>\n",
       "      <td>0.196721</td>\n",
       "      <td>0.433333</td>\n",
       "      <td>0.418182</td>\n",
       "      <td>0.203948</td>\n",
       "      <td>0.0</td>\n",
       "      <td>0.0</td>\n",
       "      <td>0.018109</td>\n",
       "    </tr>\n",
       "    <tr>\n",
       "      <th>6</th>\n",
       "      <td>0.196721</td>\n",
       "      <td>0.433333</td>\n",
       "      <td>0.418182</td>\n",
       "      <td>0.213877</td>\n",
       "      <td>0.0</td>\n",
       "      <td>0.0</td>\n",
       "      <td>0.023139</td>\n",
       "    </tr>\n",
       "    <tr>\n",
       "      <th>7</th>\n",
       "      <td>0.196721</td>\n",
       "      <td>0.519980</td>\n",
       "      <td>0.418182</td>\n",
       "      <td>0.222285</td>\n",
       "      <td>0.0</td>\n",
       "      <td>0.0</td>\n",
       "      <td>0.020121</td>\n",
       "    </tr>\n",
       "    <tr>\n",
       "      <th>8</th>\n",
       "      <td>0.213115</td>\n",
       "      <td>0.433333</td>\n",
       "      <td>0.459303</td>\n",
       "      <td>0.234504</td>\n",
       "      <td>0.0</td>\n",
       "      <td>0.0</td>\n",
       "      <td>0.023139</td>\n",
       "    </tr>\n",
       "    <tr>\n",
       "      <th>9</th>\n",
       "      <td>0.213115</td>\n",
       "      <td>0.433333</td>\n",
       "      <td>0.418182</td>\n",
       "      <td>0.244433</td>\n",
       "      <td>0.0</td>\n",
       "      <td>0.0</td>\n",
       "      <td>0.021019</td>\n",
       "    </tr>\n",
       "    <tr>\n",
       "      <th>10</th>\n",
       "      <td>0.213115</td>\n",
       "      <td>0.433333</td>\n",
       "      <td>0.400000</td>\n",
       "      <td>0.251303</td>\n",
       "      <td>0.0</td>\n",
       "      <td>0.0</td>\n",
       "      <td>0.019851</td>\n",
       "    </tr>\n",
       "  </tbody>\n",
       "</table>\n",
       "</div>"
      ],
      "text/plain": [
       "        DEWP      TEMP      PRES       Iws   Is   Ir     pm2.5\n",
       "1   0.245902  0.466667  0.381818  0.158113  0.0  0.0  0.016097\n",
       "2   0.229508  0.450000  0.381818  0.174912  0.0  0.0  0.021127\n",
       "3   0.229508  0.519980  0.400000  0.187132  0.0  0.0  0.015091\n",
       "4   0.570285  0.433333  0.400000  0.195540  0.0  0.0  0.022133\n",
       "5   0.196721  0.433333  0.418182  0.203948  0.0  0.0  0.018109\n",
       "6   0.196721  0.433333  0.418182  0.213877  0.0  0.0  0.023139\n",
       "7   0.196721  0.519980  0.418182  0.222285  0.0  0.0  0.020121\n",
       "8   0.213115  0.433333  0.459303  0.234504  0.0  0.0  0.023139\n",
       "9   0.213115  0.433333  0.418182  0.244433  0.0  0.0  0.021019\n",
       "10  0.213115  0.433333  0.400000  0.251303  0.0  0.0  0.019851"
      ]
     },
     "execution_count": 79,
     "metadata": {},
     "output_type": "execute_result"
    }
   ],
   "source": [
    "x_data"
   ]
  },
  {
   "cell_type": "code",
   "execution_count": 83,
   "id": "marine-condition",
   "metadata": {},
   "outputs": [],
   "source": [
    "#formal\n",
    "prediction_list=[]\n",
    "x_data=pd.DataFrame(train_x[35054:35064],columns=['DEWP','TEMP','PRES','Iws','Is','Ir','pm2.5'])\n",
    "x_data_arr=np.array(x_data)\n",
    "prediction=model.predict(x_data_arr.reshape(1,10,7))\n",
    "next_data=test_x.iloc[0,:]\n",
    "next_data['pm2.5']=prediction[0][0]\n",
    "prediction_list.append(prediction[0][0])\n",
    "next_data=scaler.transform(np.array(next_data).reshape(1, -1) )\n",
    "x_data=x_data.append(pd.DataFrame(next_data,columns=['DEWP','TEMP','PRES','Iws','Is','Ir','pm2.5'])).reset_index(drop=True)\n",
    "x_data=x_data.drop(0,0)\n",
    "\n",
    "\n",
    "for i in range(len(test_x)-1):\n",
    "    x_data_arr=np.array(x_data)\n",
    "    prediction=model.predict(x_data_arr.reshape(1,10,7))\n",
    "    next_data=test_x.iloc[i+1,:]\n",
    "    next_data['pm2.5']=prediction[0][0]\n",
    "    prediction_list.append(prediction[0][0])\n",
    "    next_data=scaler.transform(np.array(next_data).reshape(1, -1) )\n",
    "    x_data=x_data.append(pd.DataFrame(next_data,columns=['DEWP','TEMP','PRES','Iws','Is','Ir','pm2.5'])).reset_index(drop=True)\n",
    "    x_data=x_data.drop(0,0)\n",
    "#prediction_list.append(prediction[0][0])"
   ]
  },
  {
   "cell_type": "code",
   "execution_count": 84,
   "id": "empty-objective",
   "metadata": {},
   "outputs": [
    {
     "data": {
      "text/plain": [
       "8760"
      ]
     },
     "execution_count": 84,
     "metadata": {},
     "output_type": "execute_result"
    }
   ],
   "source": [
    "len(prediction_list)"
   ]
  },
  {
   "cell_type": "code",
   "execution_count": 85,
   "id": "configured-savannah",
   "metadata": {},
   "outputs": [],
   "source": [
    "ID=range(1,8761)"
   ]
  },
  {
   "cell_type": "code",
   "execution_count": 86,
   "id": "north-provincial",
   "metadata": {},
   "outputs": [],
   "source": [
    "ans=pd.DataFrame({'ID':ID,'Predicted':prediction_list})"
   ]
  },
  {
   "cell_type": "code",
   "execution_count": 87,
   "id": "hybrid-elevation",
   "metadata": {},
   "outputs": [
    {
     "data": {
      "text/html": [
       "<div>\n",
       "<style scoped>\n",
       "    .dataframe tbody tr th:only-of-type {\n",
       "        vertical-align: middle;\n",
       "    }\n",
       "\n",
       "    .dataframe tbody tr th {\n",
       "        vertical-align: top;\n",
       "    }\n",
       "\n",
       "    .dataframe thead th {\n",
       "        text-align: right;\n",
       "    }\n",
       "</style>\n",
       "<table border=\"1\" class=\"dataframe\">\n",
       "  <thead>\n",
       "    <tr style=\"text-align: right;\">\n",
       "      <th></th>\n",
       "      <th>ID</th>\n",
       "      <th>Predicted</th>\n",
       "    </tr>\n",
       "  </thead>\n",
       "  <tbody>\n",
       "    <tr>\n",
       "      <th>0</th>\n",
       "      <td>1</td>\n",
       "      <td>20.893337</td>\n",
       "    </tr>\n",
       "    <tr>\n",
       "      <th>1</th>\n",
       "      <td>2</td>\n",
       "      <td>19.732046</td>\n",
       "    </tr>\n",
       "    <tr>\n",
       "      <th>2</th>\n",
       "      <td>3</td>\n",
       "      <td>19.091299</td>\n",
       "    </tr>\n",
       "    <tr>\n",
       "      <th>3</th>\n",
       "      <td>4</td>\n",
       "      <td>18.718378</td>\n",
       "    </tr>\n",
       "    <tr>\n",
       "      <th>4</th>\n",
       "      <td>5</td>\n",
       "      <td>18.595905</td>\n",
       "    </tr>\n",
       "    <tr>\n",
       "      <th>...</th>\n",
       "      <td>...</td>\n",
       "      <td>...</td>\n",
       "    </tr>\n",
       "    <tr>\n",
       "      <th>8755</th>\n",
       "      <td>8756</td>\n",
       "      <td>403.373505</td>\n",
       "    </tr>\n",
       "    <tr>\n",
       "      <th>8756</th>\n",
       "      <td>8757</td>\n",
       "      <td>403.153595</td>\n",
       "    </tr>\n",
       "    <tr>\n",
       "      <th>8757</th>\n",
       "      <td>8758</td>\n",
       "      <td>396.327911</td>\n",
       "    </tr>\n",
       "    <tr>\n",
       "      <th>8758</th>\n",
       "      <td>8759</td>\n",
       "      <td>384.879791</td>\n",
       "    </tr>\n",
       "    <tr>\n",
       "      <th>8759</th>\n",
       "      <td>8760</td>\n",
       "      <td>389.766357</td>\n",
       "    </tr>\n",
       "  </tbody>\n",
       "</table>\n",
       "<p>8760 rows × 2 columns</p>\n",
       "</div>"
      ],
      "text/plain": [
       "        ID   Predicted\n",
       "0        1   20.893337\n",
       "1        2   19.732046\n",
       "2        3   19.091299\n",
       "3        4   18.718378\n",
       "4        5   18.595905\n",
       "...    ...         ...\n",
       "8755  8756  403.373505\n",
       "8756  8757  403.153595\n",
       "8757  8758  396.327911\n",
       "8758  8759  384.879791\n",
       "8759  8760  389.766357\n",
       "\n",
       "[8760 rows x 2 columns]"
      ]
     },
     "execution_count": 87,
     "metadata": {},
     "output_type": "execute_result"
    }
   ],
   "source": [
    "ans"
   ]
  },
  {
   "cell_type": "code",
   "execution_count": 88,
   "id": "purple-target",
   "metadata": {},
   "outputs": [],
   "source": [
    "ans.to_csv(r'D:\\課程\\大四下\\資料科學應用\\project2\\project2_lstm_v5.csv',index=False)"
   ]
  },
  {
   "cell_type": "code",
   "execution_count": null,
   "id": "missing-navigation",
   "metadata": {},
   "outputs": [],
   "source": []
  }
 ],
 "metadata": {
  "kernelspec": {
   "display_name": "Python 3",
   "language": "python",
   "name": "python3"
  },
  "language_info": {
   "codemirror_mode": {
    "name": "ipython",
    "version": 3
   },
   "file_extension": ".py",
   "mimetype": "text/x-python",
   "name": "python",
   "nbconvert_exporter": "python",
   "pygments_lexer": "ipython3",
   "version": "3.6.12"
  }
 },
 "nbformat": 4,
 "nbformat_minor": 5
}
