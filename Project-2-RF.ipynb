{
 "cells": [
  {
   "cell_type": "code",
   "execution_count": 1,
   "metadata": {},
   "outputs": [
    {
     "data": {
      "text/html": [
       "<div>\n",
       "<style scoped>\n",
       "    .dataframe tbody tr th:only-of-type {\n",
       "        vertical-align: middle;\n",
       "    }\n",
       "\n",
       "    .dataframe tbody tr th {\n",
       "        vertical-align: top;\n",
       "    }\n",
       "\n",
       "    .dataframe thead th {\n",
       "        text-align: right;\n",
       "    }\n",
       "</style>\n",
       "<table border=\"1\" class=\"dataframe\">\n",
       "  <thead>\n",
       "    <tr style=\"text-align: right;\">\n",
       "      <th></th>\n",
       "      <th>year</th>\n",
       "      <th>month</th>\n",
       "      <th>day</th>\n",
       "      <th>hour</th>\n",
       "      <th>DEWP</th>\n",
       "      <th>TEMP</th>\n",
       "      <th>PRES</th>\n",
       "      <th>cbwd</th>\n",
       "      <th>Iws</th>\n",
       "      <th>Is</th>\n",
       "      <th>Ir</th>\n",
       "    </tr>\n",
       "  </thead>\n",
       "  <tbody>\n",
       "    <tr>\n",
       "      <th>0</th>\n",
       "      <td>2014</td>\n",
       "      <td>1</td>\n",
       "      <td>1</td>\n",
       "      <td>0</td>\n",
       "      <td>-20.0</td>\n",
       "      <td>7.0</td>\n",
       "      <td>1014.0</td>\n",
       "      <td>NW</td>\n",
       "      <td>143.48</td>\n",
       "      <td>0</td>\n",
       "      <td>0</td>\n",
       "    </tr>\n",
       "    <tr>\n",
       "      <th>1</th>\n",
       "      <td>2014</td>\n",
       "      <td>1</td>\n",
       "      <td>1</td>\n",
       "      <td>1</td>\n",
       "      <td>-20.0</td>\n",
       "      <td>7.0</td>\n",
       "      <td>1013.0</td>\n",
       "      <td>NW</td>\n",
       "      <td>147.50</td>\n",
       "      <td>0</td>\n",
       "      <td>0</td>\n",
       "    </tr>\n",
       "    <tr>\n",
       "      <th>2</th>\n",
       "      <td>2014</td>\n",
       "      <td>1</td>\n",
       "      <td>1</td>\n",
       "      <td>2</td>\n",
       "      <td>-20.0</td>\n",
       "      <td>6.0</td>\n",
       "      <td>1013.0</td>\n",
       "      <td>NW</td>\n",
       "      <td>151.52</td>\n",
       "      <td>0</td>\n",
       "      <td>0</td>\n",
       "    </tr>\n",
       "    <tr>\n",
       "      <th>3</th>\n",
       "      <td>2014</td>\n",
       "      <td>1</td>\n",
       "      <td>1</td>\n",
       "      <td>3</td>\n",
       "      <td>-20.0</td>\n",
       "      <td>6.0</td>\n",
       "      <td>1013.0</td>\n",
       "      <td>NW</td>\n",
       "      <td>153.31</td>\n",
       "      <td>0</td>\n",
       "      <td>0</td>\n",
       "    </tr>\n",
       "    <tr>\n",
       "      <th>4</th>\n",
       "      <td>2014</td>\n",
       "      <td>1</td>\n",
       "      <td>1</td>\n",
       "      <td>4</td>\n",
       "      <td>-18.0</td>\n",
       "      <td>3.0</td>\n",
       "      <td>1012.0</td>\n",
       "      <td>cv</td>\n",
       "      <td>0.89</td>\n",
       "      <td>0</td>\n",
       "      <td>0</td>\n",
       "    </tr>\n",
       "    <tr>\n",
       "      <th>...</th>\n",
       "      <td>...</td>\n",
       "      <td>...</td>\n",
       "      <td>...</td>\n",
       "      <td>...</td>\n",
       "      <td>...</td>\n",
       "      <td>...</td>\n",
       "      <td>...</td>\n",
       "      <td>...</td>\n",
       "      <td>...</td>\n",
       "      <td>...</td>\n",
       "      <td>...</td>\n",
       "    </tr>\n",
       "    <tr>\n",
       "      <th>8755</th>\n",
       "      <td>2014</td>\n",
       "      <td>12</td>\n",
       "      <td>31</td>\n",
       "      <td>19</td>\n",
       "      <td>NaN</td>\n",
       "      <td>-2.0</td>\n",
       "      <td>1034.0</td>\n",
       "      <td>NW</td>\n",
       "      <td>231.97</td>\n",
       "      <td>0</td>\n",
       "      <td>0</td>\n",
       "    </tr>\n",
       "    <tr>\n",
       "      <th>8756</th>\n",
       "      <td>2014</td>\n",
       "      <td>12</td>\n",
       "      <td>31</td>\n",
       "      <td>20</td>\n",
       "      <td>-22.0</td>\n",
       "      <td>-3.0</td>\n",
       "      <td>1034.0</td>\n",
       "      <td>NW</td>\n",
       "      <td>237.78</td>\n",
       "      <td>0</td>\n",
       "      <td>0</td>\n",
       "    </tr>\n",
       "    <tr>\n",
       "      <th>8757</th>\n",
       "      <td>2014</td>\n",
       "      <td>12</td>\n",
       "      <td>31</td>\n",
       "      <td>21</td>\n",
       "      <td>-22.0</td>\n",
       "      <td>NaN</td>\n",
       "      <td>NaN</td>\n",
       "      <td>NW</td>\n",
       "      <td>242.70</td>\n",
       "      <td>0</td>\n",
       "      <td>0</td>\n",
       "    </tr>\n",
       "    <tr>\n",
       "      <th>8758</th>\n",
       "      <td>2014</td>\n",
       "      <td>12</td>\n",
       "      <td>31</td>\n",
       "      <td>22</td>\n",
       "      <td>NaN</td>\n",
       "      <td>-4.0</td>\n",
       "      <td>1034.0</td>\n",
       "      <td>NW</td>\n",
       "      <td>246.72</td>\n",
       "      <td>0</td>\n",
       "      <td>0</td>\n",
       "    </tr>\n",
       "    <tr>\n",
       "      <th>8759</th>\n",
       "      <td>2014</td>\n",
       "      <td>12</td>\n",
       "      <td>31</td>\n",
       "      <td>23</td>\n",
       "      <td>-21.0</td>\n",
       "      <td>-3.0</td>\n",
       "      <td>1034.0</td>\n",
       "      <td>NW</td>\n",
       "      <td>249.85</td>\n",
       "      <td>0</td>\n",
       "      <td>0</td>\n",
       "    </tr>\n",
       "  </tbody>\n",
       "</table>\n",
       "<p>8760 rows × 11 columns</p>\n",
       "</div>"
      ],
      "text/plain": [
       "      year  month  day  hour  DEWP  TEMP    PRES cbwd     Iws  Is  Ir\n",
       "0     2014      1    1     0 -20.0   7.0  1014.0   NW  143.48   0   0\n",
       "1     2014      1    1     1 -20.0   7.0  1013.0   NW  147.50   0   0\n",
       "2     2014      1    1     2 -20.0   6.0  1013.0   NW  151.52   0   0\n",
       "3     2014      1    1     3 -20.0   6.0  1013.0   NW  153.31   0   0\n",
       "4     2014      1    1     4 -18.0   3.0  1012.0   cv    0.89   0   0\n",
       "...    ...    ...  ...   ...   ...   ...     ...  ...     ...  ..  ..\n",
       "8755  2014     12   31    19   NaN  -2.0  1034.0   NW  231.97   0   0\n",
       "8756  2014     12   31    20 -22.0  -3.0  1034.0   NW  237.78   0   0\n",
       "8757  2014     12   31    21 -22.0   NaN     NaN   NW  242.70   0   0\n",
       "8758  2014     12   31    22   NaN  -4.0  1034.0   NW  246.72   0   0\n",
       "8759  2014     12   31    23 -21.0  -3.0  1034.0   NW  249.85   0   0\n",
       "\n",
       "[8760 rows x 11 columns]"
      ]
     },
     "execution_count": 1,
     "metadata": {},
     "output_type": "execute_result"
    }
   ],
   "source": [
    "import numpy as np\n",
    "import pandas as pd\n",
    "from datetime import datetime, timedelta, date, time\n",
    "import matplotlib.pyplot as plt\n",
    "%matplotlib inline\n",
    "#plt.rcParams['figure.dpi'] = 300\n",
    "%config InlineBackend.figure_format='svg'\n",
    "import seaborn as sns\n",
    "train_data=pd.read_csv(r'C:\\Users\\milk\\Desktop\\Project 2\\train.csv')\n",
    "test_data=pd.read_csv(r'C:\\Users\\milk\\Desktop\\Project 2\\test.csv')\n",
    "train_data\n",
    "test_data"
   ]
  },
  {
   "cell_type": "code",
   "execution_count": 2,
   "metadata": {},
   "outputs": [],
   "source": [
    "col_names=(test_data).columns"
   ]
  },
  {
   "cell_type": "code",
   "execution_count": 3,
   "metadata": {},
   "outputs": [
    {
     "name": "stdout",
     "output_type": "stream",
     "text": [
      "year         0\n",
      "month        0\n",
      "day          0\n",
      "hour         0\n",
      "pm2.5     1968\n",
      "DEWP      5259\n",
      "TEMP     10519\n",
      "PRES     14025\n",
      "cbwd         0\n",
      "Iws          0\n",
      "Is           0\n",
      "Ir           0\n",
      "dtype: int64\n"
     ]
    }
   ],
   "source": [
    "print(train_data.isnull().sum())  "
   ]
  },
  {
   "cell_type": "code",
   "execution_count": 4,
   "metadata": {},
   "outputs": [
    {
     "name": "stdout",
     "output_type": "stream",
     "text": [
      "year        0\n",
      "month       0\n",
      "day         0\n",
      "hour        0\n",
      "DEWP      876\n",
      "TEMP     1752\n",
      "PRES      876\n",
      "cbwd        0\n",
      "Iws         0\n",
      "Is          0\n",
      "Ir          0\n",
      "dtype: int64\n"
     ]
    }
   ],
   "source": [
    "print(test_data.isnull().sum())  "
   ]
  },
  {
   "cell_type": "code",
   "execution_count": 5,
   "metadata": {},
   "outputs": [],
   "source": [
    "from sklearn import preprocessing\n",
    "le = preprocessing.LabelEncoder()\n",
    "le.fit(train_data['cbwd'])\n",
    "train_data['cbwd']= le.transform(train_data['cbwd'])\n",
    "test_data['cbwd']= le.transform(test_data['cbwd'])"
   ]
  },
  {
   "cell_type": "code",
   "execution_count": 6,
   "metadata": {},
   "outputs": [],
   "source": [
    "train_y=train_data['pm2.5']\n",
    "train_x=train_data.drop('pm2.5',1)\n",
    "train_y = train_y.fillna(np.mean(train_y))"
   ]
  },
  {
   "cell_type": "code",
   "execution_count": 7,
   "metadata": {},
   "outputs": [
    {
     "name": "stdout",
     "output_type": "stream",
     "text": [
      "year         0\n",
      "month        0\n",
      "day          0\n",
      "hour         0\n",
      "DEWP      5259\n",
      "TEMP     10519\n",
      "PRES     14025\n",
      "cbwd         0\n",
      "Iws          0\n",
      "Is           0\n",
      "Ir           0\n",
      "dtype: int64\n"
     ]
    }
   ],
   "source": [
    "print(train_x.isnull().sum())  "
   ]
  },
  {
   "cell_type": "code",
   "execution_count": 8,
   "metadata": {},
   "outputs": [],
   "source": [
    "#missing value 使用前向填充法\n",
    "train_x[['DEWP','TEMP','PRES']]=train_x[['DEWP','TEMP','PRES']].fillna(method = 'ffill')\n",
    "test_data[['DEWP','TEMP','PRES']]=test_data[['DEWP','TEMP','PRES']].fillna(method = 'ffill')"
   ]
  },
  {
   "cell_type": "code",
   "execution_count": 9,
   "metadata": {},
   "outputs": [
    {
     "name": "stdout",
     "output_type": "stream",
     "text": [
      "year     0\n",
      "month    0\n",
      "day      0\n",
      "hour     0\n",
      "DEWP     0\n",
      "TEMP     0\n",
      "PRES     0\n",
      "cbwd     0\n",
      "Iws      0\n",
      "Is       0\n",
      "Ir       0\n",
      "dtype: int64\n",
      "year     0\n",
      "month    0\n",
      "day      0\n",
      "hour     0\n",
      "DEWP     0\n",
      "TEMP     0\n",
      "PRES     0\n",
      "cbwd     0\n",
      "Iws      0\n",
      "Is       0\n",
      "Ir       0\n",
      "dtype: int64\n"
     ]
    }
   ],
   "source": [
    "print(train_x.isnull().sum())  \n",
    "print(test_data.isnull().sum())  "
   ]
  },
  {
   "cell_type": "code",
   "execution_count": 12,
   "metadata": {},
   "outputs": [],
   "source": [
    "#納入季節\n",
    "#1-Spring(3 4 5) 2-Summer(6 7 8) 3-Fall(9 10 11) 4-Winter(12 1 2)\n",
    "def getseason(y):\n",
    "    if 3 <= y <= 5 :\n",
    "        Season = 1\n",
    "    elif 6 <= y <= 8 :\n",
    "        Season = 2\n",
    "    elif 9 <= y <= 11 :\n",
    "        Season = 3\n",
    "    else :\n",
    "        Season = 4\n",
    "    return Season\n",
    "train_x['season'] = train_x['month'].apply(getseason)\n",
    "test_data['season'] = test_data['month'].apply(getseason)"
   ]
  },
  {
   "cell_type": "code",
   "execution_count": 13,
   "metadata": {},
   "outputs": [],
   "source": [
    "#露點與溫度差\n",
    "train_x['diff'] = train_x['DEWP']-train_x['TEMP']\n",
    "test_data['diff'] = test_data['DEWP']-test_data['TEMP']"
   ]
  },
  {
   "cell_type": "code",
   "execution_count": 15,
   "metadata": {},
   "outputs": [],
   "source": [
    "from sklearn.impute import SimpleImputer\n",
    "imp = SimpleImputer(missing_values=np.nan, strategy='mean')"
   ]
  },
  {
   "cell_type": "code",
   "execution_count": 16,
   "metadata": {},
   "outputs": [
    {
     "data": {
      "text/plain": [
       "array([[ 2.010e+03,  1.000e+00,  1.000e+00, ...,  0.000e+00,  4.000e+00,\n",
       "        -1.000e+01],\n",
       "       [ 2.010e+03,  1.000e+00,  1.000e+00, ...,  0.000e+00,  4.000e+00,\n",
       "        -9.000e+00],\n",
       "       [ 2.010e+03,  1.000e+00,  1.000e+00, ...,  0.000e+00,  4.000e+00,\n",
       "        -1.000e+01],\n",
       "       ...,\n",
       "       [ 2.013e+03,  1.200e+01,  3.100e+01, ...,  0.000e+00,  4.000e+00,\n",
       "        -2.800e+01],\n",
       "       [ 2.013e+03,  1.200e+01,  3.100e+01, ...,  0.000e+00,  4.000e+00,\n",
       "        -2.800e+01],\n",
       "       [ 2.013e+03,  1.200e+01,  3.100e+01, ...,  0.000e+00,  4.000e+00,\n",
       "        -2.700e+01]])"
      ]
     },
     "execution_count": 16,
     "metadata": {},
     "output_type": "execute_result"
    }
   ],
   "source": [
    "imp.fit(train_x)\n",
    "train_x = imp.transform(train_x)\n",
    "#train_x=pd.DataFrame(train_x,columns=col_names)\n",
    "train_x"
   ]
  },
  {
   "cell_type": "code",
   "execution_count": 18,
   "metadata": {},
   "outputs": [
    {
     "data": {
      "text/plain": [
       "0        98.843153\n",
       "1        98.843153\n",
       "2        98.843153\n",
       "3        98.843153\n",
       "4        98.843153\n",
       "           ...    \n",
       "35059    22.000000\n",
       "35060    18.000000\n",
       "35061    23.000000\n",
       "35062    20.000000\n",
       "35063    23.000000\n",
       "Name: pm2.5, Length: 35064, dtype: float64"
      ]
     },
     "execution_count": 18,
     "metadata": {},
     "output_type": "execute_result"
    }
   ],
   "source": [
    "train_y = train_y.fillna(np.mean(train_y))\n",
    "#train__y=pd.DataFrame(train_y)\n",
    "train_y"
   ]
  },
  {
   "cell_type": "code",
   "execution_count": 19,
   "metadata": {},
   "outputs": [
    {
     "data": {
      "text/plain": [
       "98.84315325114818"
      ]
     },
     "execution_count": 19,
     "metadata": {},
     "output_type": "execute_result"
    }
   ],
   "source": [
    "i=10\n",
    "train_y[i]"
   ]
  },
  {
   "cell_type": "code",
   "execution_count": 27,
   "metadata": {},
   "outputs": [],
   "source": [
    "from sklearn.ensemble import RandomForestRegressor"
   ]
  },
  {
   "cell_type": "code",
   "execution_count": 28,
   "metadata": {},
   "outputs": [],
   "source": [
    "rf = RandomForestRegressor(n_estimators = 1000, random_state = 42)"
   ]
  },
  {
   "cell_type": "code",
   "execution_count": 29,
   "metadata": {},
   "outputs": [
    {
     "data": {
      "text/plain": [
       "RandomForestRegressor(n_estimators=1000, random_state=42)"
      ]
     },
     "execution_count": 29,
     "metadata": {},
     "output_type": "execute_result"
    }
   ],
   "source": [
    "rf.fit(train_x, train_y)"
   ]
  },
  {
   "cell_type": "code",
   "execution_count": 31,
   "metadata": {},
   "outputs": [],
   "source": [
    "predictions = rf.predict(test_data)"
   ]
  },
  {
   "cell_type": "code",
   "execution_count": 34,
   "metadata": {},
   "outputs": [
    {
     "data": {
      "text/plain": [
       "8760"
      ]
     },
     "execution_count": 34,
     "metadata": {},
     "output_type": "execute_result"
    }
   ],
   "source": [
    "len(predictions)"
   ]
  },
  {
   "cell_type": "code",
   "execution_count": 36,
   "metadata": {},
   "outputs": [
    {
     "data": {
      "text/html": [
       "<div>\n",
       "<style scoped>\n",
       "    .dataframe tbody tr th:only-of-type {\n",
       "        vertical-align: middle;\n",
       "    }\n",
       "\n",
       "    .dataframe tbody tr th {\n",
       "        vertical-align: top;\n",
       "    }\n",
       "\n",
       "    .dataframe thead th {\n",
       "        text-align: right;\n",
       "    }\n",
       "</style>\n",
       "<table border=\"1\" class=\"dataframe\">\n",
       "  <thead>\n",
       "    <tr style=\"text-align: right;\">\n",
       "      <th></th>\n",
       "      <th>ID</th>\n",
       "      <th>Predicted</th>\n",
       "    </tr>\n",
       "  </thead>\n",
       "  <tbody>\n",
       "    <tr>\n",
       "      <th>0</th>\n",
       "      <td>1</td>\n",
       "      <td>27.649275</td>\n",
       "    </tr>\n",
       "    <tr>\n",
       "      <th>1</th>\n",
       "      <td>2</td>\n",
       "      <td>27.346804</td>\n",
       "    </tr>\n",
       "    <tr>\n",
       "      <th>2</th>\n",
       "      <td>3</td>\n",
       "      <td>26.029804</td>\n",
       "    </tr>\n",
       "    <tr>\n",
       "      <th>3</th>\n",
       "      <td>4</td>\n",
       "      <td>23.741647</td>\n",
       "    </tr>\n",
       "    <tr>\n",
       "      <th>4</th>\n",
       "      <td>5</td>\n",
       "      <td>95.958529</td>\n",
       "    </tr>\n",
       "    <tr>\n",
       "      <th>...</th>\n",
       "      <td>...</td>\n",
       "      <td>...</td>\n",
       "    </tr>\n",
       "    <tr>\n",
       "      <th>8755</th>\n",
       "      <td>8756</td>\n",
       "      <td>17.166902</td>\n",
       "    </tr>\n",
       "    <tr>\n",
       "      <th>8756</th>\n",
       "      <td>8757</td>\n",
       "      <td>17.358118</td>\n",
       "    </tr>\n",
       "    <tr>\n",
       "      <th>8757</th>\n",
       "      <td>8758</td>\n",
       "      <td>16.951745</td>\n",
       "    </tr>\n",
       "    <tr>\n",
       "      <th>8758</th>\n",
       "      <td>8759</td>\n",
       "      <td>17.203745</td>\n",
       "    </tr>\n",
       "    <tr>\n",
       "      <th>8759</th>\n",
       "      <td>8760</td>\n",
       "      <td>16.883902</td>\n",
       "    </tr>\n",
       "  </tbody>\n",
       "</table>\n",
       "<p>8760 rows × 2 columns</p>\n",
       "</div>"
      ],
      "text/plain": [
       "        ID  Predicted\n",
       "0        1  27.649275\n",
       "1        2  27.346804\n",
       "2        3  26.029804\n",
       "3        4  23.741647\n",
       "4        5  95.958529\n",
       "...    ...        ...\n",
       "8755  8756  17.166902\n",
       "8756  8757  17.358118\n",
       "8757  8758  16.951745\n",
       "8758  8759  17.203745\n",
       "8759  8760  16.883902\n",
       "\n",
       "[8760 rows x 2 columns]"
      ]
     },
     "execution_count": 36,
     "metadata": {},
     "output_type": "execute_result"
    }
   ],
   "source": [
    "ID=range(1,8761)\n",
    "ans=pd.DataFrame({'ID':ID,'Predicted':predictions})\n",
    "ans"
   ]
  },
  {
   "cell_type": "code",
   "execution_count": 37,
   "metadata": {},
   "outputs": [],
   "source": [
    "ans.to_csv(r'C:\\Users\\milk\\Desktop\\project 2\\project2_RF.csv',index=False)"
   ]
  }
 ],
 "metadata": {
  "kernelspec": {
   "display_name": "Python 3",
   "language": "python",
   "name": "python3"
  },
  "language_info": {
   "codemirror_mode": {
    "name": "ipython",
    "version": 3
   },
   "file_extension": ".py",
   "mimetype": "text/x-python",
   "name": "python",
   "nbconvert_exporter": "python",
   "pygments_lexer": "ipython3",
   "version": "3.6.12"
  }
 },
 "nbformat": 4,
 "nbformat_minor": 4
}
